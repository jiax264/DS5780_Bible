{
 "cells": [
  {
   "cell_type": "markdown",
   "metadata": {},
   "source": [
    "## Data Trimming \n",
    "### From entire chapter text to first 2 sentences of each chapter for both KJV & BBE\n",
    "\n",
    "This is to reduce the computational burden for both training and inference since a lot of chapters are very long. "
   ]
  },
  {
   "cell_type": "markdown",
   "metadata": {},
   "source": [
    "### Import packages"
   ]
  },
  {
   "cell_type": "code",
   "execution_count": 23,
   "metadata": {},
   "outputs": [
    {
     "name": "stdout",
     "output_type": "stream",
     "text": [
      "Requirement already satisfied: nltk in /panfs/accrepfs.vampire/home/jiax1/.conda/envs/finalproj/lib/python3.9/site-packages (3.8.1)\n",
      "Requirement already satisfied: click in /panfs/accrepfs.vampire/home/jiax1/.conda/envs/finalproj/lib/python3.9/site-packages (from nltk) (8.1.7)\n",
      "Requirement already satisfied: joblib in /panfs/accrepfs.vampire/home/jiax1/.conda/envs/finalproj/lib/python3.9/site-packages (from nltk) (1.3.2)\n",
      "Requirement already satisfied: regex>=2021.8.3 in /panfs/accrepfs.vampire/home/jiax1/.conda/envs/finalproj/lib/python3.9/site-packages (from nltk) (2023.12.25)\n",
      "Requirement already satisfied: tqdm in /panfs/accrepfs.vampire/home/jiax1/.conda/envs/finalproj/lib/python3.9/site-packages (from nltk) (4.66.1)\n",
      "Note: you may need to restart the kernel to use updated packages.\n"
     ]
    }
   ],
   "source": [
    "pip install nltk"
   ]
  },
  {
   "cell_type": "code",
   "execution_count": 24,
   "metadata": {},
   "outputs": [
    {
     "name": "stderr",
     "output_type": "stream",
     "text": [
      "[nltk_data] Downloading package punkt to /home/jiax1/nltk_data...\n",
      "[nltk_data]   Package punkt is already up-to-date!\n"
     ]
    },
    {
     "data": {
      "text/plain": [
       "True"
      ]
     },
     "execution_count": 24,
     "metadata": {},
     "output_type": "execute_result"
    }
   ],
   "source": [
    "import pandas as pd\n",
    "import nltk\n",
    "from nltk.tokenize import sent_tokenize\n",
    "\n",
    "nltk.download('punkt')"
   ]
  },
  {
   "cell_type": "code",
   "execution_count": 25,
   "metadata": {},
   "outputs": [],
   "source": [
    "pd.set_option('display.max_colwidth', None) \n",
    "pd.set_option('display.max_rows', None) "
   ]
  },
  {
   "cell_type": "markdown",
   "metadata": {},
   "source": [
    "### Keep first two sentences of each chapter for each Bible version"
   ]
  },
  {
   "cell_type": "code",
   "execution_count": 26,
   "metadata": {},
   "outputs": [],
   "source": [
    "def keep_first_two_sentences(text):\n",
    "    sentences = sent_tokenize(text)\n",
    "    return ' '.join(sentences[:2])"
   ]
  },
  {
   "cell_type": "code",
   "execution_count": 27,
   "metadata": {},
   "outputs": [],
   "source": [
    "df = pd.read_csv('bible_cleaned_data.csv')\n",
    "df['KJV'] = df['KJV'].apply(keep_first_two_sentences)\n",
    "df['BBE'] = df['BBE'].apply(keep_first_two_sentences)"
   ]
  },
  {
   "cell_type": "markdown",
   "metadata": {},
   "source": [
    "## Dirty row removal"
   ]
  },
  {
   "cell_type": "markdown",
   "metadata": {},
   "source": [
    "### BBE text for many chapters in Psalms are dirty and difficult to preprocess so remove them from the dataset"
   ]
  },
  {
   "cell_type": "code",
   "execution_count": 37,
   "metadata": {},
   "outputs": [
    {
     "data": {
      "text/html": [
       "<div>\n",
       "<style scoped>\n",
       "    .dataframe tbody tr th:only-of-type {\n",
       "        vertical-align: middle;\n",
       "    }\n",
       "\n",
       "    .dataframe tbody tr th {\n",
       "        vertical-align: top;\n",
       "    }\n",
       "\n",
       "    .dataframe thead th {\n",
       "        text-align: right;\n",
       "    }\n",
       "</style>\n",
       "<table border=\"1\" class=\"dataframe\">\n",
       "  <thead>\n",
       "    <tr style=\"text-align: right;\">\n",
       "      <th></th>\n",
       "      <th>chapter</th>\n",
       "      <th>KJV</th>\n",
       "      <th>BBE</th>\n",
       "    </tr>\n",
       "  </thead>\n",
       "  <tbody>\n",
       "    <tr>\n",
       "      <th>1042</th>\n",
       "      <td>Psalms3</td>\n",
       "      <td>Lord, how are they increased that trouble me! many are they that rise up against me.</td>\n",
       "      <td>&amp;lt;A Psalm. Of David.</td>\n",
       "    </tr>\n",
       "    <tr>\n",
       "      <th>987</th>\n",
       "      <td>Psalms115</td>\n",
       "      <td>Not unto us, O Lord, not unto us, but unto thy name give glory, for thy mercy, and for thy truth's sake. Wherefore should the heathen say, Where is now their God?</td>\n",
       "      <td>Not to us, O Lord, not to us, but to your name let glory be given, because of your mercy and your unchanging faith. Why may the nations say, Where is now their God?</td>\n",
       "    </tr>\n",
       "    <tr>\n",
       "      <th>1087</th>\n",
       "      <td>Psalms70</td>\n",
       "      <td>Make haste, o God, to deliver me; make haste to help me, O Lord. Let them be ashamed and confounded that seek after my soul: let them be turned backward, and put to confusion, that desire my hurt.</td>\n",
       "      <td>&amp;lt;To the chief music-maker. Of David.</td>\n",
       "    </tr>\n",
       "    <tr>\n",
       "      <th>1047</th>\n",
       "      <td>Psalms34</td>\n",
       "      <td>I will bless the Lord at all times: his praise shall continually be in my mouth. My soul shall make her boast in the Lord: the humble shall hear thereof, and be glad.</td>\n",
       "      <td>&amp;lt;Of David. When he made a change in his behaviour before Abimelech, who sent him away, and he went.&amp;gt; I will be blessing the Lord at all times; his praise will be ever in my mouth.</td>\n",
       "    </tr>\n",
       "    <tr>\n",
       "      <th>1045</th>\n",
       "      <td>Psalms32</td>\n",
       "      <td>Blessed is he whose transgression is forgiven, whose sin is covered. Blessed is the man unto whom the Lord imputeth not iniquity, and in whose spirit there is no guile.</td>\n",
       "      <td>&amp;lt;Of David. Maschil.&amp;gt; Happy is he who has forgiveness for his wrongdoing, and whose sin is covered.</td>\n",
       "    </tr>\n",
       "    <tr>\n",
       "      <th>1000</th>\n",
       "      <td>Psalms127</td>\n",
       "      <td>Except the Lord build the house, they labour in vain that build it: except the Lord keep the city, the watchman waketh but in vain. It is vain for you to rise up early, to sit up late, to eat the bread of sorrows: for so he giveth his beloved sleep.</td>\n",
       "      <td>&amp;lt;A Song of the going up. Of Solomon.&amp;gt; If the Lord is not helping the builders, then the building of a house is to no purpose: if the Lord does not keep the town, the watchman keeps his watch for nothing.</td>\n",
       "    </tr>\n",
       "    <tr>\n",
       "      <th>1033</th>\n",
       "      <td>Psalms21</td>\n",
       "      <td>The king shall joy in thy strength, O Lord; and in thy salvation how greatly shall he rejoice! Thou hast given him his heart's desire, and hast not withholden the request of his lips.</td>\n",
       "      <td>&amp;lt;To the chief music-maker. A Psalm.</td>\n",
       "    </tr>\n",
       "    <tr>\n",
       "      <th>1110</th>\n",
       "      <td>Psalms91</td>\n",
       "      <td>He that dwelleth in the secret place of the most High shall abide under the shadow of the Almighty. I will say of the Lord, He is my refuge and my fortress: my God; in him will I trust.</td>\n",
       "      <td>Happy is he whose resting-place is in the secret of the Lord, and under the shade of the wings of the Most High; Who says of the Lord, He is my safe place and my tower of strength: he is my God, in whom is my hope. He will take you out of the bird-net, and keep you safe from wasting disease.</td>\n",
       "    </tr>\n",
       "    <tr>\n",
       "      <th>1037</th>\n",
       "      <td>Psalms25</td>\n",
       "      <td>Unto thee, O Lord, do I lift up my soul. O my God, I trust in thee: let me not be ashamed, let not mine enemies triumph over me.</td>\n",
       "      <td>&amp;lt;Of David.&amp;gt; To you, O Lord, my soul is lifted up. O my God, I have put my faith in you, let me not be shamed; let not my haters be glorying over me.</td>\n",
       "    </tr>\n",
       "    <tr>\n",
       "      <th>1051</th>\n",
       "      <td>Psalms38</td>\n",
       "      <td>O Lord, rebuke me not in thy wrath: neither chasten me in thy hot displeasure. For thine arrows stick fast in me, and thy hand presseth me sore.</td>\n",
       "      <td>&amp;lt;A Psalm. Of David.</td>\n",
       "    </tr>\n",
       "  </tbody>\n",
       "</table>\n",
       "</div>"
      ],
      "text/plain": [
       "        chapter  \\\n",
       "1042    Psalms3   \n",
       "987   Psalms115   \n",
       "1087   Psalms70   \n",
       "1047   Psalms34   \n",
       "1045   Psalms32   \n",
       "1000  Psalms127   \n",
       "1033   Psalms21   \n",
       "1110   Psalms91   \n",
       "1037   Psalms25   \n",
       "1051   Psalms38   \n",
       "\n",
       "                                                                                                                                                                                                                                                            KJV  \\\n",
       "1042                                                                                                                                                                       Lord, how are they increased that trouble me! many are they that rise up against me.   \n",
       "987                                                                                          Not unto us, O Lord, not unto us, but unto thy name give glory, for thy mercy, and for thy truth's sake. Wherefore should the heathen say, Where is now their God?   \n",
       "1087                                                       Make haste, o God, to deliver me; make haste to help me, O Lord. Let them be ashamed and confounded that seek after my soul: let them be turned backward, and put to confusion, that desire my hurt.   \n",
       "1047                                                                                     I will bless the Lord at all times: his praise shall continually be in my mouth. My soul shall make her boast in the Lord: the humble shall hear thereof, and be glad.   \n",
       "1045                                                                                   Blessed is he whose transgression is forgiven, whose sin is covered. Blessed is the man unto whom the Lord imputeth not iniquity, and in whose spirit there is no guile.   \n",
       "1000  Except the Lord build the house, they labour in vain that build it: except the Lord keep the city, the watchman waketh but in vain. It is vain for you to rise up early, to sit up late, to eat the bread of sorrows: for so he giveth his beloved sleep.   \n",
       "1033                                                                    The king shall joy in thy strength, O Lord; and in thy salvation how greatly shall he rejoice! Thou hast given him his heart's desire, and hast not withholden the request of his lips.   \n",
       "1110                                                                  He that dwelleth in the secret place of the most High shall abide under the shadow of the Almighty. I will say of the Lord, He is my refuge and my fortress: my God; in him will I trust.   \n",
       "1037                                                                                                                           Unto thee, O Lord, do I lift up my soul. O my God, I trust in thee: let me not be ashamed, let not mine enemies triumph over me.   \n",
       "1051                                                                                                           O Lord, rebuke me not in thy wrath: neither chasten me in thy hot displeasure. For thine arrows stick fast in me, and thy hand presseth me sore.   \n",
       "\n",
       "                                                                                                                                                                                                                                                                                                       BBE  \n",
       "1042                                                                                                                                                                                                                                                                                &lt;A Psalm. Of David.  \n",
       "987                                                                                                                                   Not to us, O Lord, not to us, but to your name let glory be given, because of your mercy and your unchanging faith. Why may the nations say, Where is now their God?  \n",
       "1087                                                                                                                                                                                                                                                               &lt;To the chief music-maker. Of David.  \n",
       "1047                                                                                                             &lt;Of David. When he made a change in his behaviour before Abimelech, who sent him away, and he went.&gt; I will be blessing the Lord at all times; his praise will be ever in my mouth.  \n",
       "1045                                                                                                                                                                                              &lt;Of David. Maschil.&gt; Happy is he who has forgiveness for his wrongdoing, and whose sin is covered.  \n",
       "1000                                                                                     &lt;A Song of the going up. Of Solomon.&gt; If the Lord is not helping the builders, then the building of a house is to no purpose: if the Lord does not keep the town, the watchman keeps his watch for nothing.  \n",
       "1033                                                                                                                                                                                                                                                                &lt;To the chief music-maker. A Psalm.  \n",
       "1110  Happy is he whose resting-place is in the secret of the Lord, and under the shade of the wings of the Most High; Who says of the Lord, He is my safe place and my tower of strength: he is my God, in whom is my hope. He will take you out of the bird-net, and keep you safe from wasting disease.  \n",
       "1037                                                                                                                                            &lt;Of David.&gt; To you, O Lord, my soul is lifted up. O my God, I have put my faith in you, let me not be shamed; let not my haters be glorying over me.  \n",
       "1051                                                                                                                                                                                                                                                                                &lt;A Psalm. Of David.  "
      ]
     },
     "execution_count": 37,
     "metadata": {},
     "output_type": "execute_result"
    }
   ],
   "source": [
    "psalms_df = df[df['chapter'].str.startswith('Psalms')]\n",
    "\n",
    "sampled_psalms_df = psalms_df.sample(n=10, random_state=42) \n",
    "\n",
    "sampled_psalms_df"
   ]
  },
  {
   "cell_type": "markdown",
   "metadata": {},
   "source": [
    "**Note the headings being captured as the first two sentences in many BBE chapters in Psalms**"
   ]
  },
  {
   "cell_type": "code",
   "execution_count": 38,
   "metadata": {},
   "outputs": [],
   "source": [
    "# Create a mask that is True for rows where 'chapter' does not start with 'Psalms'\n",
    "mask = ~df['chapter'].str.startswith('Psalms')\n",
    "\n",
    "# Apply the mask to the DataFrame to filter out unwanted rows\n",
    "filtered_df = df[mask]"
   ]
  },
  {
   "cell_type": "code",
   "execution_count": 42,
   "metadata": {},
   "outputs": [
    {
     "name": "stdout",
     "output_type": "stream",
     "text": [
      "Original DataFrame had 1189 rows.\n",
      "Filtered DataFrame has 1039 rows.\n",
      "150 rows were removed, corresponding to Psalm chapters.\n"
     ]
    }
   ],
   "source": [
    "original_row_count = df.shape[0]\n",
    "filtered_row_count = filtered_df.shape[0]\n",
    "rows_removed = original_row_count - filtered_row_count\n",
    "\n",
    "# Print the results\n",
    "print(f\"Original DataFrame had {original_row_count} rows.\")\n",
    "print(f\"Filtered DataFrame has {filtered_row_count} rows.\")\n",
    "print(f\"{rows_removed} rows were removed, corresponding to Psalm chapters.\")"
   ]
  },
  {
   "cell_type": "markdown",
   "metadata": {},
   "source": [
    "#### Remove Isaiah52 because BBE first two sentences that were captured do not correspond to the equivalent in KJV since the exclamation points were treated as ending punctuation and this would negatively impact model evaluation later"
   ]
  },
  {
   "cell_type": "code",
   "execution_count": 45,
   "metadata": {},
   "outputs": [
    {
     "data": {
      "text/html": [
       "<div>\n",
       "<style scoped>\n",
       "    .dataframe tbody tr th:only-of-type {\n",
       "        vertical-align: middle;\n",
       "    }\n",
       "\n",
       "    .dataframe tbody tr th {\n",
       "        vertical-align: top;\n",
       "    }\n",
       "\n",
       "    .dataframe thead th {\n",
       "        text-align: right;\n",
       "    }\n",
       "</style>\n",
       "<table border=\"1\" class=\"dataframe\">\n",
       "  <thead>\n",
       "    <tr style=\"text-align: right;\">\n",
       "      <th></th>\n",
       "      <th>chapter</th>\n",
       "      <th>KJV</th>\n",
       "      <th>BBE</th>\n",
       "    </tr>\n",
       "  </thead>\n",
       "  <tbody>\n",
       "    <tr>\n",
       "      <th>577</th>\n",
       "      <td>Isaiah52</td>\n",
       "      <td>Awake, awake; put on thy strength, O Zion; put on thy beautiful garments, O Jerusalem, the holy city: for henceforth there shall no more come into thee the uncircumcised and the unclean. Shake thyself from the dust; arise, and sit down, O Jerusalem: loose thyself from the bands of thy neck, O captive daughter of Zion.</td>\n",
       "      <td>Awake! awake!</td>\n",
       "    </tr>\n",
       "  </tbody>\n",
       "</table>\n",
       "</div>"
      ],
      "text/plain": [
       "      chapter  \\\n",
       "577  Isaiah52   \n",
       "\n",
       "                                                                                                                                                                                                                                                                                                                                 KJV  \\\n",
       "577  Awake, awake; put on thy strength, O Zion; put on thy beautiful garments, O Jerusalem, the holy city: for henceforth there shall no more come into thee the uncircumcised and the unclean. Shake thyself from the dust; arise, and sit down, O Jerusalem: loose thyself from the bands of thy neck, O captive daughter of Zion.   \n",
       "\n",
       "               BBE  \n",
       "577  Awake! awake!  "
      ]
     },
     "execution_count": 45,
     "metadata": {},
     "output_type": "execute_result"
    }
   ],
   "source": [
    "filtered_df[filtered_df['chapter'] == 'Isaiah52']"
   ]
  },
  {
   "cell_type": "code",
   "execution_count": 46,
   "metadata": {},
   "outputs": [],
   "source": [
    "filtered_df = filtered_df[filtered_df['chapter'] != 'Isaiah52']"
   ]
  },
  {
   "cell_type": "markdown",
   "metadata": {},
   "source": [
    "### Save final clean and trimmed dataframe as csv file 'bible_cleaned_and_short_data.csv'"
   ]
  },
  {
   "cell_type": "code",
   "execution_count": 34,
   "metadata": {},
   "outputs": [],
   "source": [
    "filtered_df.to_csv('bible_cleaned_and_short_data.csv', index=False) "
   ]
  }
 ],
 "metadata": {
  "kernelspec": {
   "display_name": "finalproj",
   "language": "python",
   "name": "finalproj"
  },
  "language_info": {
   "codemirror_mode": {
    "name": "ipython",
    "version": 3
   },
   "file_extension": ".py",
   "mimetype": "text/x-python",
   "name": "python",
   "nbconvert_exporter": "python",
   "pygments_lexer": "ipython3",
   "version": "3.9.18"
  }
 },
 "nbformat": 4,
 "nbformat_minor": 2
}

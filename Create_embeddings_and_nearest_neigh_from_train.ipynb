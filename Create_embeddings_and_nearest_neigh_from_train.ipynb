{
 "cells": [
  {
   "cell_type": "markdown",
   "metadata": {},
   "source": [
    "## Create embeddings for KJV passages from both Train & Test & Create Test Dataframe for Gemma where each KJV-BBE pair in Test has the most similar KJV-BBE pair from Train (based on KJV cosine similarity) to serve as example for in Context Learning "
   ]
  },
  {
   "cell_type": "code",
   "execution_count": 1,
   "metadata": {},
   "outputs": [
    {
     "name": "stdout",
     "output_type": "stream",
     "text": [
      "Collecting sentence-transformers\n",
      "  Downloading sentence_transformers-2.7.0-py3-none-any.whl.metadata (11 kB)\n",
      "Requirement already satisfied: transformers<5.0.0,>=4.34.0 in /panfs/accrepfs.vampire/home/jiax1/.conda/envs/finalproj/lib/python3.9/site-packages (from sentence-transformers) (4.39.3)\n",
      "Requirement already satisfied: tqdm in /panfs/accrepfs.vampire/home/jiax1/.conda/envs/finalproj/lib/python3.9/site-packages (from sentence-transformers) (4.66.1)\n",
      "Requirement already satisfied: torch>=1.11.0 in /panfs/accrepfs.vampire/home/jiax1/.local/lib/python3.9/site-packages (from sentence-transformers) (2.1.0)\n",
      "Requirement already satisfied: numpy in /panfs/accrepfs.vampire/home/jiax1/.conda/envs/finalproj/lib/python3.9/site-packages (from sentence-transformers) (1.26.0)\n",
      "Requirement already satisfied: scikit-learn in /panfs/accrepfs.vampire/home/jiax1/.conda/envs/finalproj/lib/python3.9/site-packages (from sentence-transformers) (1.3.2)\n",
      "Requirement already satisfied: scipy in /panfs/accrepfs.vampire/home/jiax1/.conda/envs/finalproj/lib/python3.9/site-packages (from sentence-transformers) (1.11.3)\n",
      "Requirement already satisfied: huggingface-hub>=0.15.1 in /panfs/accrepfs.vampire/home/jiax1/.conda/envs/finalproj/lib/python3.9/site-packages (from sentence-transformers) (0.22.2)\n",
      "Requirement already satisfied: Pillow in /panfs/accrepfs.vampire/home/jiax1/.conda/envs/finalproj/lib/python3.9/site-packages (from sentence-transformers) (9.2.0)\n",
      "Requirement already satisfied: filelock in /panfs/accrepfs.vampire/home/jiax1/.conda/envs/finalproj/lib/python3.9/site-packages (from huggingface-hub>=0.15.1->sentence-transformers) (3.13.1)\n",
      "Requirement already satisfied: fsspec>=2023.5.0 in /panfs/accrepfs.vampire/home/jiax1/.conda/envs/finalproj/lib/python3.9/site-packages (from huggingface-hub>=0.15.1->sentence-transformers) (2024.3.1)\n",
      "Requirement already satisfied: packaging>=20.9 in /panfs/accrepfs.vampire/home/jiax1/.conda/envs/finalproj/lib/python3.9/site-packages (from huggingface-hub>=0.15.1->sentence-transformers) (23.2)\n",
      "Requirement already satisfied: pyyaml>=5.1 in /panfs/accrepfs.vampire/home/jiax1/.conda/envs/finalproj/lib/python3.9/site-packages (from huggingface-hub>=0.15.1->sentence-transformers) (6.0.1)\n",
      "Requirement already satisfied: requests in /panfs/accrepfs.vampire/home/jiax1/.conda/envs/finalproj/lib/python3.9/site-packages (from huggingface-hub>=0.15.1->sentence-transformers) (2.31.0)\n",
      "Requirement already satisfied: typing-extensions>=3.7.4.3 in /panfs/accrepfs.vampire/home/jiax1/.local/lib/python3.9/site-packages (from huggingface-hub>=0.15.1->sentence-transformers) (4.10.0)\n",
      "Requirement already satisfied: sympy in /panfs/accrepfs.vampire/home/jiax1/.conda/envs/finalproj/lib/python3.9/site-packages (from torch>=1.11.0->sentence-transformers) (1.12)\n",
      "Requirement already satisfied: networkx in /panfs/accrepfs.vampire/home/jiax1/.conda/envs/finalproj/lib/python3.9/site-packages (from torch>=1.11.0->sentence-transformers) (3.2.1)\n",
      "Requirement already satisfied: jinja2 in /panfs/accrepfs.vampire/home/jiax1/.conda/envs/finalproj/lib/python3.9/site-packages (from torch>=1.11.0->sentence-transformers) (3.1.2)\n",
      "Requirement already satisfied: nvidia-cuda-nvrtc-cu12==12.1.105 in /panfs/accrepfs.vampire/home/jiax1/.conda/envs/finalproj/lib/python3.9/site-packages (from torch>=1.11.0->sentence-transformers) (12.1.105)\n",
      "Requirement already satisfied: nvidia-cuda-runtime-cu12==12.1.105 in /panfs/accrepfs.vampire/home/jiax1/.conda/envs/finalproj/lib/python3.9/site-packages (from torch>=1.11.0->sentence-transformers) (12.1.105)\n",
      "Requirement already satisfied: nvidia-cuda-cupti-cu12==12.1.105 in /panfs/accrepfs.vampire/home/jiax1/.conda/envs/finalproj/lib/python3.9/site-packages (from torch>=1.11.0->sentence-transformers) (12.1.105)\n",
      "Requirement already satisfied: nvidia-cudnn-cu12==8.9.2.26 in /panfs/accrepfs.vampire/home/jiax1/.conda/envs/finalproj/lib/python3.9/site-packages (from torch>=1.11.0->sentence-transformers) (8.9.2.26)\n",
      "Requirement already satisfied: nvidia-cublas-cu12==12.1.3.1 in /panfs/accrepfs.vampire/home/jiax1/.conda/envs/finalproj/lib/python3.9/site-packages (from torch>=1.11.0->sentence-transformers) (12.1.3.1)\n",
      "Requirement already satisfied: nvidia-cufft-cu12==11.0.2.54 in /panfs/accrepfs.vampire/home/jiax1/.conda/envs/finalproj/lib/python3.9/site-packages (from torch>=1.11.0->sentence-transformers) (11.0.2.54)\n",
      "Requirement already satisfied: nvidia-curand-cu12==10.3.2.106 in /panfs/accrepfs.vampire/home/jiax1/.conda/envs/finalproj/lib/python3.9/site-packages (from torch>=1.11.0->sentence-transformers) (10.3.2.106)\n",
      "Requirement already satisfied: nvidia-cusolver-cu12==11.4.5.107 in /panfs/accrepfs.vampire/home/jiax1/.conda/envs/finalproj/lib/python3.9/site-packages (from torch>=1.11.0->sentence-transformers) (11.4.5.107)\n",
      "Requirement already satisfied: nvidia-cusparse-cu12==12.1.0.106 in /panfs/accrepfs.vampire/home/jiax1/.conda/envs/finalproj/lib/python3.9/site-packages (from torch>=1.11.0->sentence-transformers) (12.1.0.106)\n",
      "Requirement already satisfied: nvidia-nccl-cu12==2.18.1 in /panfs/accrepfs.vampire/home/jiax1/.conda/envs/finalproj/lib/python3.9/site-packages (from torch>=1.11.0->sentence-transformers) (2.18.1)\n",
      "Requirement already satisfied: nvidia-nvtx-cu12==12.1.105 in /panfs/accrepfs.vampire/home/jiax1/.local/lib/python3.9/site-packages (from torch>=1.11.0->sentence-transformers) (12.1.105)\n",
      "Requirement already satisfied: triton==2.1.0 in /panfs/accrepfs.vampire/home/jiax1/.local/lib/python3.9/site-packages (from torch>=1.11.0->sentence-transformers) (2.1.0)\n",
      "Requirement already satisfied: nvidia-nvjitlink-cu12 in /panfs/accrepfs.vampire/home/jiax1/.conda/envs/finalproj/lib/python3.9/site-packages (from nvidia-cusolver-cu12==11.4.5.107->torch>=1.11.0->sentence-transformers) (12.3.101)\n",
      "Requirement already satisfied: regex!=2019.12.17 in /panfs/accrepfs.vampire/home/jiax1/.conda/envs/finalproj/lib/python3.9/site-packages (from transformers<5.0.0,>=4.34.0->sentence-transformers) (2023.12.25)\n",
      "Requirement already satisfied: tokenizers<0.19,>=0.14 in /panfs/accrepfs.vampire/home/jiax1/.conda/envs/finalproj/lib/python3.9/site-packages (from transformers<5.0.0,>=4.34.0->sentence-transformers) (0.15.2)\n",
      "Requirement already satisfied: safetensors>=0.4.1 in /panfs/accrepfs.vampire/home/jiax1/.conda/envs/finalproj/lib/python3.9/site-packages (from transformers<5.0.0,>=4.34.0->sentence-transformers) (0.4.3)\n",
      "Requirement already satisfied: joblib>=1.1.1 in /panfs/accrepfs.vampire/home/jiax1/.conda/envs/finalproj/lib/python3.9/site-packages (from scikit-learn->sentence-transformers) (1.3.2)\n",
      "Requirement already satisfied: threadpoolctl>=2.0.0 in /panfs/accrepfs.vampire/home/jiax1/.conda/envs/finalproj/lib/python3.9/site-packages (from scikit-learn->sentence-transformers) (3.2.0)\n",
      "Requirement already satisfied: MarkupSafe>=2.0 in /panfs/accrepfs.vampire/home/jiax1/.conda/envs/finalproj/lib/python3.9/site-packages (from jinja2->torch>=1.11.0->sentence-transformers) (2.1.3)\n",
      "Requirement already satisfied: charset-normalizer<4,>=2 in /panfs/accrepfs.vampire/home/jiax1/.conda/envs/finalproj/lib/python3.9/site-packages (from requests->huggingface-hub>=0.15.1->sentence-transformers) (3.3.2)\n",
      "Requirement already satisfied: idna<4,>=2.5 in /panfs/accrepfs.vampire/home/jiax1/.conda/envs/finalproj/lib/python3.9/site-packages (from requests->huggingface-hub>=0.15.1->sentence-transformers) (3.4)\n",
      "Requirement already satisfied: urllib3<3,>=1.21.1 in /panfs/accrepfs.vampire/home/jiax1/.conda/envs/finalproj/lib/python3.9/site-packages (from requests->huggingface-hub>=0.15.1->sentence-transformers) (2.1.0)\n",
      "Requirement already satisfied: certifi>=2017.4.17 in /panfs/accrepfs.vampire/home/jiax1/.conda/envs/finalproj/lib/python3.9/site-packages (from requests->huggingface-hub>=0.15.1->sentence-transformers) (2024.2.2)\n",
      "Requirement already satisfied: mpmath>=0.19 in /panfs/accrepfs.vampire/home/jiax1/.conda/envs/finalproj/lib/python3.9/site-packages (from sympy->torch>=1.11.0->sentence-transformers) (1.3.0)\n",
      "Downloading sentence_transformers-2.7.0-py3-none-any.whl (171 kB)\n",
      "\u001b[2K   \u001b[90m━━━━━━━━━━━━━━━━━━━━━━━━━━━━━━━━━━━━━━━━\u001b[0m \u001b[32m171.5/171.5 kB\u001b[0m \u001b[31m2.8 MB/s\u001b[0m eta \u001b[36m0:00:00\u001b[0mta \u001b[36m0:00:01\u001b[0m\n",
      "\u001b[?25hInstalling collected packages: sentence-transformers\n",
      "Successfully installed sentence-transformers-2.7.0\n",
      "Note: you may need to restart the kernel to use updated packages.\n"
     ]
    }
   ],
   "source": [
    "pip install -U sentence-transformers"
   ]
  },
  {
   "cell_type": "markdown",
   "metadata": {},
   "source": [
    "### Import packages"
   ]
  },
  {
   "cell_type": "code",
   "execution_count": 13,
   "metadata": {},
   "outputs": [],
   "source": [
    "import numpy as np\n",
    "import pandas as pd\n",
    "import random\n",
    "import torch\n",
    "from tqdm import tqdm\n",
    "from sentence_transformers import SentenceTransformer\n",
    "from sklearn.metrics.pairwise import cosine_similarity"
   ]
  },
  {
   "cell_type": "code",
   "execution_count": 17,
   "metadata": {},
   "outputs": [],
   "source": [
    "pd.set_option('display.max_colwidth', None) \n",
    "pd.set_option('display.max_rows', None) "
   ]
  },
  {
   "cell_type": "code",
   "execution_count": 4,
   "metadata": {},
   "outputs": [],
   "source": [
    "train_df = pd.read_csv('train_data.csv')\n",
    "\n",
    "test_df = pd.read_csv('test_data.csv')"
   ]
  },
  {
   "cell_type": "markdown",
   "metadata": {},
   "source": [
    "### Instantiate the Embedding Model"
   ]
  },
  {
   "cell_type": "code",
   "execution_count": 8,
   "metadata": {},
   "outputs": [
    {
     "data": {
      "application/vnd.jupyter.widget-view+json": {
       "model_id": "3a726364533947f8a4d216de0e40b313",
       "version_major": 2,
       "version_minor": 0
      },
      "text/plain": [
       "modules.json:   0%|          | 0.00/349 [00:00<?, ?B/s]"
      ]
     },
     "metadata": {},
     "output_type": "display_data"
    },
    {
     "data": {
      "application/vnd.jupyter.widget-view+json": {
       "model_id": "3171509ff0a442c8a6ac96f4f5c353e6",
       "version_major": 2,
       "version_minor": 0
      },
      "text/plain": [
       "config_sentence_transformers.json:   0%|          | 0.00/116 [00:00<?, ?B/s]"
      ]
     },
     "metadata": {},
     "output_type": "display_data"
    },
    {
     "data": {
      "application/vnd.jupyter.widget-view+json": {
       "model_id": "63ef41e8e1d54cdbb71caa2af28c2a1e",
       "version_major": 2,
       "version_minor": 0
      },
      "text/plain": [
       "README.md:   0%|          | 0.00/10.3k [00:00<?, ?B/s]"
      ]
     },
     "metadata": {},
     "output_type": "display_data"
    },
    {
     "data": {
      "application/vnd.jupyter.widget-view+json": {
       "model_id": "fc18915ac4a44e6db0fb926fcea57106",
       "version_major": 2,
       "version_minor": 0
      },
      "text/plain": [
       "sentence_bert_config.json:   0%|          | 0.00/53.0 [00:00<?, ?B/s]"
      ]
     },
     "metadata": {},
     "output_type": "display_data"
    },
    {
     "data": {
      "application/vnd.jupyter.widget-view+json": {
       "model_id": "a86e7fb24ec4446d8ab848c52025cf19",
       "version_major": 2,
       "version_minor": 0
      },
      "text/plain": [
       "config.json:   0%|          | 0.00/653 [00:00<?, ?B/s]"
      ]
     },
     "metadata": {},
     "output_type": "display_data"
    },
    {
     "data": {
      "application/vnd.jupyter.widget-view+json": {
       "model_id": "e1dbec852d9f4354b4a143bb0b23b956",
       "version_major": 2,
       "version_minor": 0
      },
      "text/plain": [
       "model.safetensors:   0%|          | 0.00/328M [00:00<?, ?B/s]"
      ]
     },
     "metadata": {},
     "output_type": "display_data"
    },
    {
     "data": {
      "application/vnd.jupyter.widget-view+json": {
       "model_id": "70643bab0a5a4bfe9bce9aac91855f4b",
       "version_major": 2,
       "version_minor": 0
      },
      "text/plain": [
       "tokenizer_config.json:   0%|          | 0.00/333 [00:00<?, ?B/s]"
      ]
     },
     "metadata": {},
     "output_type": "display_data"
    },
    {
     "data": {
      "application/vnd.jupyter.widget-view+json": {
       "model_id": "1b965d8fd1a740b9ac3de9639df9fd16",
       "version_major": 2,
       "version_minor": 0
      },
      "text/plain": [
       "vocab.json:   0%|          | 0.00/798k [00:00<?, ?B/s]"
      ]
     },
     "metadata": {},
     "output_type": "display_data"
    },
    {
     "data": {
      "application/vnd.jupyter.widget-view+json": {
       "model_id": "18af2e7d99e5495a87883b799065f94a",
       "version_major": 2,
       "version_minor": 0
      },
      "text/plain": [
       "merges.txt:   0%|          | 0.00/456k [00:00<?, ?B/s]"
      ]
     },
     "metadata": {},
     "output_type": "display_data"
    },
    {
     "data": {
      "application/vnd.jupyter.widget-view+json": {
       "model_id": "c5231b5a936549bca276fc213e1773da",
       "version_major": 2,
       "version_minor": 0
      },
      "text/plain": [
       "tokenizer.json:   0%|          | 0.00/1.36M [00:00<?, ?B/s]"
      ]
     },
     "metadata": {},
     "output_type": "display_data"
    },
    {
     "data": {
      "application/vnd.jupyter.widget-view+json": {
       "model_id": "119d6b16b48e4d23a9de1bb29bfab20e",
       "version_major": 2,
       "version_minor": 0
      },
      "text/plain": [
       "special_tokens_map.json:   0%|          | 0.00/239 [00:00<?, ?B/s]"
      ]
     },
     "metadata": {},
     "output_type": "display_data"
    },
    {
     "data": {
      "application/vnd.jupyter.widget-view+json": {
       "model_id": "bceec52a094c4a378d5973ae64f43d00",
       "version_major": 2,
       "version_minor": 0
      },
      "text/plain": [
       "1_Pooling/config.json:   0%|          | 0.00/190 [00:00<?, ?B/s]"
      ]
     },
     "metadata": {},
     "output_type": "display_data"
    }
   ],
   "source": [
    "model = SentenceTransformer('sentence-transformers/all-distilroberta-v1')"
   ]
  },
  {
   "cell_type": "markdown",
   "metadata": {},
   "source": [
    "### Compute embeddings for KJV for both train & test"
   ]
  },
  {
   "cell_type": "code",
   "execution_count": 9,
   "metadata": {},
   "outputs": [],
   "source": [
    "# Function to compute embeddings for a column in the dataframe\n",
    "def compute_embeddings(dataframe, column_name):\n",
    "    sentences = dataframe[column_name].tolist()\n",
    "    embeddings = model.encode(sentences)\n",
    "    return embeddings"
   ]
  },
  {
   "cell_type": "code",
   "execution_count": 10,
   "metadata": {},
   "outputs": [],
   "source": [
    "# Compute embeddings for the 'KJV' column in both dataframes\n",
    "train_df['KJV_embedding'] = list(compute_embeddings(train_df, 'KJV'))\n",
    "test_df['KJV_embedding'] = list(compute_embeddings(test_df, 'KJV'))"
   ]
  },
  {
   "cell_type": "markdown",
   "metadata": {},
   "source": [
    "### For each row in test_df, add in the KJV-BBE pair that has the highest cosine similarity (based on KJV embeddings)"
   ]
  },
  {
   "cell_type": "code",
   "execution_count": 14,
   "metadata": {},
   "outputs": [],
   "source": [
    "# Convert embeddings from lists to numpy arrays for cosine similarity computation\n",
    "train_embeddings = np.vstack(train_df['KJV_embedding'].apply(np.array))\n",
    "test_embeddings = np.vstack(test_df['KJV_embedding'].apply(np.array))\n",
    "\n",
    "# Compute cosine similarities between all pairs of train and test embeddings\n",
    "cos_similarities = cosine_similarity(test_embeddings, train_embeddings)\n",
    "\n",
    "# Find the index of the most similar train embedding for each test row\n",
    "max_sim_indices = np.argmax(cos_similarities, axis=1)\n",
    "max_sim_scores = np.max(cos_similarities, axis=1)\n",
    "\n",
    "# Extract the corresponding KJV, BBE, and embeddings from train_df\n",
    "train_KJV_nearest = train_df.iloc[max_sim_indices]['KJV'].values\n",
    "train_BBE_nearest = train_df.iloc[max_sim_indices]['BBE'].values\n",
    "train_KJV_embedding_nearest = train_df.iloc[max_sim_indices]['KJV_embedding'].values"
   ]
  },
  {
   "cell_type": "code",
   "execution_count": 15,
   "metadata": {},
   "outputs": [],
   "source": [
    "test_with_nearest_neigh_from_train_df = test_df.copy()\n",
    "test_with_nearest_neigh_from_train_df['train_KJV'] = train_KJV_nearest\n",
    "test_with_nearest_neigh_from_train_df['train_BBE'] = train_BBE_nearest\n",
    "test_with_nearest_neigh_from_train_df['train_KJV_embedding'] = list(train_KJV_embedding_nearest)\n",
    "test_with_nearest_neigh_from_train_df['cosine_similarity'] = max_sim_scores"
   ]
  },
  {
   "cell_type": "code",
   "execution_count": 21,
   "metadata": {
    "scrolled": false
   },
   "outputs": [
    {
     "data": {
      "text/html": [
       "<div>\n",
       "<style scoped>\n",
       "    .dataframe tbody tr th:only-of-type {\n",
       "        vertical-align: middle;\n",
       "    }\n",
       "\n",
       "    .dataframe tbody tr th {\n",
       "        vertical-align: top;\n",
       "    }\n",
       "\n",
       "    .dataframe thead th {\n",
       "        text-align: right;\n",
       "    }\n",
       "</style>\n",
       "<table border=\"1\" class=\"dataframe\">\n",
       "  <thead>\n",
       "    <tr style=\"text-align: right;\">\n",
       "      <th></th>\n",
       "      <th>chapter</th>\n",
       "      <th>KJV</th>\n",
       "      <th>BBE</th>\n",
       "      <th>KJV_embedding</th>\n",
       "      <th>train_KJV</th>\n",
       "      <th>train_BBE</th>\n",
       "      <th>train_KJV_embedding</th>\n",
       "      <th>cosine_similarity</th>\n",
       "    </tr>\n",
       "  </thead>\n",
       "  <tbody>\n",
       "    <tr>\n",
       "      <th>51</th>\n",
       "      <td>2Samuel12</td>\n",
       "      <td>And the Lord sent Nathan unto David. And he came unto him, and said unto him, There were two men in one city; the one rich, and the other poor.</td>\n",
       "      <td>And the Lord sent Nathan to David. And Nathan came to him and said, There were two men in the same town: one a man of great wealth, and the other a poor man.</td>\n",
       "      <td>[0.0019456781, -0.0664589, 0.00020515449, -0.043806337, 0.042802762, 0.019549757, 0.007813624, 0.07654441, -0.02678678, -0.016572053, -0.00031892778, 0.084124774, -0.0014815987, 0.017194562, -0.0926432, 0.067365885, 0.010655339, 0.0074987654, -0.062914275, 0.007568671, 0.05054381, -0.049029566, 0.048862416, -0.011695857, -0.061570685, -0.037357718, -0.0073103267, 0.023696257, -0.03342989, -0.093847916, 0.03635113, -0.081188776, -0.0251645, -0.013169154, -0.005613785, -0.07132958, 0.008278797, -0.017125558, 0.08406128, 0.014549608, -0.034983102, 0.02933466, 0.057265177, 0.023257999, -0.003463733, -0.0018349476, 0.007426777, 0.07096132, 0.012567014, 0.03321697, -0.007759191, 0.009104291, -0.04882992, 0.038205262, 0.0014662221, 0.0017616815, 0.0051250993, 0.100668155, -0.011461984, -0.018603362, 0.011653269, 0.0046729273, -0.050066043, 0.079522416, 0.018111954, -0.015419813, -0.0059340945, -0.0007243474, -0.041703288, -0.021494377, 0.037996843, -0.07972471, 0.004527173, 0.0026382771, -0.025485286, 0.0637218, -0.007726328, -0.013545507, 0.017075919, 0.050411146, 0.013232987, 0.007072926, -0.015268463, -0.004849903, 0.0054924088, 0.055944495, -0.03764179, -0.041724313, 0.023159957, -0.025898667, 0.037764765, 0.05737158, -0.04361379, 0.03327848, 0.0132760955, 0.016934529, -0.020655682, 0.14357357, 0.009647435, -0.026397018, ...]</td>\n",
       "      <td>Then came all the tribes of Israel to David unto Hebron, and spake, saying, Behold, we are thy bone and thy flesh. Also in time past, when Saul was king over us, thou wast he that leddest out and broughtest in Israel: and the Lord said to thee, Thou shalt feed my people Israel, and thou shalt be a captain over Israel.</td>\n",
       "      <td>Then all the tribes of Israel came to David in Hebron and said, Truly, we are your bone and your flesh. In the past when Saul was king over us, it was you who went at the head of Israel when they went out or came in: and the Lord said to you, You are to be the keeper of my people Israel and their ruler.</td>\n",
       "      <td>[0.006571864, -0.05975793, 0.019358555, -0.023215389, 0.07000693, 0.016842127, -0.004783842, 0.06595206, 0.006171807, -0.022626774, -0.029991822, -0.0172439, -0.022506101, 0.0029152008, -0.030179556, 0.08140785, 0.013505134, -0.017631097, -0.02806181, -0.034348924, 0.010026969, -0.049590997, 0.021092758, -0.028717257, 0.034602154, -0.021887805, -0.07521154, 0.010695565, -0.04555428, -0.07236196, -0.006743338, -0.067069404, -0.032423977, -0.008195665, 0.022932949, 0.0011658097, -0.005362318, -0.019001441, 0.101935364, 0.015055844, -0.041378096, 5.0163006e-05, 0.003188094, -0.0174386, -0.041428808, 0.010243367, 0.022319952, 0.03525829, 0.023762845, -0.03899895, 0.0008595437, 0.062342744, -0.020758891, -0.014873612, 0.026265444, 0.021908177, 0.006529504, 0.06271395, 0.015592075, -0.0066196905, 0.042794, -0.031554986, -0.016327877, 0.0270553, -0.049949832, -0.002293736, 0.015283969, -0.064813375, -0.025129158, -0.01908601, 0.05872009, -0.039557472, 0.0063412273, -0.013100029, -0.0075966604, 0.04196706, 0.026816398, -0.031114917, -0.018941037, 0.039244346, 0.060640413, 0.015641917, -0.006994928, -0.019287568, 0.041515615, 0.05448225, -0.037175763, -0.056750115, -0.04376233, 0.014525626, 0.01933515, 0.03910303, -0.018820865, 0.028649297, -0.021085927, 0.04291153, -0.011898216, 0.08997161, -0.03335855, -0.03616893, ...]</td>\n",
       "      <td>0.582918</td>\n",
       "    </tr>\n",
       "    <tr>\n",
       "      <th>18</th>\n",
       "      <td>Jeremiah4</td>\n",
       "      <td>If thou wilt return, O Israel, saith the Lord, return unto me: and if thou wilt put away thine abominations out of my sight, then shalt thou not remove. And thou shalt swear, The Lord liveth, in truth, in judgment, and in righteousness; and the nations shall bless themselves in him, and in him shall they glory.</td>\n",
       "      <td>If you will come back, O Israel, says the Lord, you will come back to me: and if you will put away your disgusting ways, you will not be sent away from before me. And you will take your oath, By the living Lord, in good faith and wisdom and righteousness; and the nations will make use of you as a blessing, and in you will they take a pride.</td>\n",
       "      <td>[0.033499505, 0.03224739, 0.02993704, -0.045747764, -0.008554368, 0.002032328, 0.0058730715, 0.037570875, 0.0012151466, -0.02546228, -0.048199825, -0.045070376, -0.04716944, -0.05186355, -0.0125430375, 0.030290684, 0.023809772, -0.066026464, -0.035167493, -0.011185327, -0.092480496, -0.014433477, -0.005653597, -0.0030494684, 0.0364757, -0.04718685, -0.004891968, -0.023348246, -0.028960105, -0.053056028, 0.0028030903, -0.04576637, 0.0036668265, 0.011638264, -0.006456983, 0.0073603312, -0.048755944, -0.022284197, 0.09806984, 0.0050672316, 0.027472824, 0.02154915, -0.05266859, 0.012553264, -0.017555133, 0.041322667, -0.034814958, 0.016690794, 0.021983134, -0.02430174, 0.012696091, 0.010409749, -0.045590974, -0.0139485, 0.025237858, 0.057657417, 0.0039071767, 0.08178025, -0.039982542, 0.043223567, 0.047346383, -0.006146665, -0.028989406, 0.014204054, 0.016110256, 0.007276098, -0.0013137981, -0.03787296, -0.01271676, -0.0458865, 0.056955047, 0.010500686, -0.004333557, 0.036262408, -0.046160217, 0.012524243, 0.051253434, -0.027495887, 0.003231306, 0.008396083, -0.0162972, 0.0050857225, -0.046835177, 0.023193153, 0.050631694, 0.023019008, -0.033247527, 4.164711e-05, -0.018846337, -0.0063838623, 0.0071894354, 0.02487141, -0.009953691, -0.031251483, -0.017019844, -0.0058962028, -0.0039999415, 0.00081470143, -0.034101352, -0.032892924, ...]</td>\n",
       "      <td>Now these are the commandments, the statutes, and the judgments, which the Lord your God commanded to teach you, that ye might do them in the land whither ye go to possess it: That thou mightest fear the Lord thy God, to keep all his statutes and his commandments, which I command thee, thou, and thy son, and thy son's son, all the days of thy life; and that thy days may be prolonged. Hear therefore, O Israel, and observe to do it; that it may be well with thee, and that ye may increase mightily, as the Lord God of thy fathers hath promised thee, in the land that floweth with milk and honey.</td>\n",
       "      <td>Now these are the orders and the laws and the decisions which the Lord your God gave me for your teaching, so that you might do them in the land of your heritage to which you are going: So that living in the fear of the Lord your God, you may keep all his laws and his orders, which I give you: you and your son and your son's son, all the days of your life; and so that your life may be long. So give ear, O Israel, and take care to do this; so that it may be well for you, and you may be greatly increased, as the Lord the God of your fathers has given you his word, in a land flowing with milk and honey.</td>\n",
       "      <td>[0.009956132, -0.02395142, 0.009917692, -0.017560972, 0.014799379, -0.005754645, -0.023466647, 0.066843316, 0.00541348, -0.013865623, 0.008927025, -0.021920674, 0.011982732, -0.030180002, -0.036914658, 0.04501858, 0.017299574, -0.07247242, -0.0406308, -0.038254853, -0.08145704, -0.033893272, 0.03338551, -0.009786466, 0.052477587, -0.030617932, -0.04817081, -0.014024674, -0.02332592, -0.025636327, 0.0024195232, -0.02279931, -0.04330985, 0.0071706884, 0.009276807, 0.0070602237, -0.011004561, -0.016881585, 0.07529448, -0.009292373, 0.025359742, 0.05401231, -0.069126464, 0.021822734, -0.00980713, 0.021419458, 0.030616349, 0.036681972, 0.006577283, 0.003221637, 0.015075095, 0.026021555, -0.045887623, 0.01078764, -0.0003731363, 0.0089153545, -0.015886214, 0.054993898, -0.029146612, 0.02712371, -0.022451993, 0.008744475, 0.0021559729, 0.08999621, 0.002022634, -0.016675666, -0.0014281424, -0.058921494, -0.026314357, 0.0040612947, 0.030835418, -0.04586493, 0.00017128515, -0.009182395, -0.022510702, -0.0013860214, 0.075583875, -0.04311526, -0.0057451352, -0.011896973, 0.070557594, -0.0032259014, -0.042183302, -0.004014094, 0.07918959, 0.0025306232, -0.016560534, -0.026028588, -0.026601711, -0.06824537, -0.028004482, 0.034662776, -0.036449403, 0.017237732, -0.0073941196, 0.043943524, -0.0027091957, 0.06310558, -0.016800493, -0.010345569, ...]</td>\n",
       "      <td>0.598588</td>\n",
       "    </tr>\n",
       "  </tbody>\n",
       "</table>\n",
       "</div>"
      ],
      "text/plain": [
       "      chapter  \\\n",
       "51  2Samuel12   \n",
       "18  Jeremiah4   \n",
       "\n",
       "                                                                                                                                                                                                                                                                                                                         KJV  \\\n",
       "51                                                                                                                                                                           And the Lord sent Nathan unto David. And he came unto him, and said unto him, There were two men in one city; the one rich, and the other poor.   \n",
       "18  If thou wilt return, O Israel, saith the Lord, return unto me: and if thou wilt put away thine abominations out of my sight, then shalt thou not remove. And thou shalt swear, The Lord liveth, in truth, in judgment, and in righteousness; and the nations shall bless themselves in him, and in him shall they glory.   \n",
       "\n",
       "                                                                                                                                                                                                                                                                                                                                                       BBE  \\\n",
       "51                                                                                                                                                                                           And the Lord sent Nathan to David. And Nathan came to him and said, There were two men in the same town: one a man of great wealth, and the other a poor man.   \n",
       "18  If you will come back, O Israel, says the Lord, you will come back to me: and if you will put away your disgusting ways, you will not be sent away from before me. And you will take your oath, By the living Lord, in good faith and wisdom and righteousness; and the nations will make use of you as a blessing, and in you will they take a pride.   \n",
       "\n",
       "                                                                                                                                                                                                                                                                                                                                                                                                                                                                                                                                                                                                                                                                                                                                                                                                                                                                                                                                                                                                                                                                                                                                                                                                                                                                                                                                                                                               KJV_embedding  \\\n",
       "51          [0.0019456781, -0.0664589, 0.00020515449, -0.043806337, 0.042802762, 0.019549757, 0.007813624, 0.07654441, -0.02678678, -0.016572053, -0.00031892778, 0.084124774, -0.0014815987, 0.017194562, -0.0926432, 0.067365885, 0.010655339, 0.0074987654, -0.062914275, 0.007568671, 0.05054381, -0.049029566, 0.048862416, -0.011695857, -0.061570685, -0.037357718, -0.0073103267, 0.023696257, -0.03342989, -0.093847916, 0.03635113, -0.081188776, -0.0251645, -0.013169154, -0.005613785, -0.07132958, 0.008278797, -0.017125558, 0.08406128, 0.014549608, -0.034983102, 0.02933466, 0.057265177, 0.023257999, -0.003463733, -0.0018349476, 0.007426777, 0.07096132, 0.012567014, 0.03321697, -0.007759191, 0.009104291, -0.04882992, 0.038205262, 0.0014662221, 0.0017616815, 0.0051250993, 0.100668155, -0.011461984, -0.018603362, 0.011653269, 0.0046729273, -0.050066043, 0.079522416, 0.018111954, -0.015419813, -0.0059340945, -0.0007243474, -0.041703288, -0.021494377, 0.037996843, -0.07972471, 0.004527173, 0.0026382771, -0.025485286, 0.0637218, -0.007726328, -0.013545507, 0.017075919, 0.050411146, 0.013232987, 0.007072926, -0.015268463, -0.004849903, 0.0054924088, 0.055944495, -0.03764179, -0.041724313, 0.023159957, -0.025898667, 0.037764765, 0.05737158, -0.04361379, 0.03327848, 0.0132760955, 0.016934529, -0.020655682, 0.14357357, 0.009647435, -0.026397018, ...]   \n",
       "18  [0.033499505, 0.03224739, 0.02993704, -0.045747764, -0.008554368, 0.002032328, 0.0058730715, 0.037570875, 0.0012151466, -0.02546228, -0.048199825, -0.045070376, -0.04716944, -0.05186355, -0.0125430375, 0.030290684, 0.023809772, -0.066026464, -0.035167493, -0.011185327, -0.092480496, -0.014433477, -0.005653597, -0.0030494684, 0.0364757, -0.04718685, -0.004891968, -0.023348246, -0.028960105, -0.053056028, 0.0028030903, -0.04576637, 0.0036668265, 0.011638264, -0.006456983, 0.0073603312, -0.048755944, -0.022284197, 0.09806984, 0.0050672316, 0.027472824, 0.02154915, -0.05266859, 0.012553264, -0.017555133, 0.041322667, -0.034814958, 0.016690794, 0.021983134, -0.02430174, 0.012696091, 0.010409749, -0.045590974, -0.0139485, 0.025237858, 0.057657417, 0.0039071767, 0.08178025, -0.039982542, 0.043223567, 0.047346383, -0.006146665, -0.028989406, 0.014204054, 0.016110256, 0.007276098, -0.0013137981, -0.03787296, -0.01271676, -0.0458865, 0.056955047, 0.010500686, -0.004333557, 0.036262408, -0.046160217, 0.012524243, 0.051253434, -0.027495887, 0.003231306, 0.008396083, -0.0162972, 0.0050857225, -0.046835177, 0.023193153, 0.050631694, 0.023019008, -0.033247527, 4.164711e-05, -0.018846337, -0.0063838623, 0.0071894354, 0.02487141, -0.009953691, -0.031251483, -0.017019844, -0.0058962028, -0.0039999415, 0.00081470143, -0.034101352, -0.032892924, ...]   \n",
       "\n",
       "                                                                                                                                                                                                                                                                                                                                                                                                                                                                                                                                                                                                                train_KJV  \\\n",
       "51                                                                                                                                                                                                                                                                                        Then came all the tribes of Israel to David unto Hebron, and spake, saying, Behold, we are thy bone and thy flesh. Also in time past, when Saul was king over us, thou wast he that leddest out and broughtest in Israel: and the Lord said to thee, Thou shalt feed my people Israel, and thou shalt be a captain over Israel.   \n",
       "18  Now these are the commandments, the statutes, and the judgments, which the Lord your God commanded to teach you, that ye might do them in the land whither ye go to possess it: That thou mightest fear the Lord thy God, to keep all his statutes and his commandments, which I command thee, thou, and thy son, and thy son's son, all the days of thy life; and that thy days may be prolonged. Hear therefore, O Israel, and observe to do it; that it may be well with thee, and that ye may increase mightily, as the Lord God of thy fathers hath promised thee, in the land that floweth with milk and honey.   \n",
       "\n",
       "                                                                                                                                                                                                                                                                                                                                                                                                                                                                                                                                                                                                                          train_BBE  \\\n",
       "51                                                                                                                                                                                                                                                                                                                 Then all the tribes of Israel came to David in Hebron and said, Truly, we are your bone and your flesh. In the past when Saul was king over us, it was you who went at the head of Israel when they went out or came in: and the Lord said to you, You are to be the keeper of my people Israel and their ruler.   \n",
       "18  Now these are the orders and the laws and the decisions which the Lord your God gave me for your teaching, so that you might do them in the land of your heritage to which you are going: So that living in the fear of the Lord your God, you may keep all his laws and his orders, which I give you: you and your son and your son's son, all the days of your life; and so that your life may be long. So give ear, O Israel, and take care to do this; so that it may be well for you, and you may be greatly increased, as the Lord the God of your fathers has given you his word, in a land flowing with milk and honey.   \n",
       "\n",
       "                                                                                                                                                                                                                                                                                                                                                                                                                                                                                                                                                                                                                                                                                                                                                                                                                                                                                                                                                                                                                                                                                                                                                                                                                                                                                                                                                                                          train_KJV_embedding  \\\n",
       "51                     [0.006571864, -0.05975793, 0.019358555, -0.023215389, 0.07000693, 0.016842127, -0.004783842, 0.06595206, 0.006171807, -0.022626774, -0.029991822, -0.0172439, -0.022506101, 0.0029152008, -0.030179556, 0.08140785, 0.013505134, -0.017631097, -0.02806181, -0.034348924, 0.010026969, -0.049590997, 0.021092758, -0.028717257, 0.034602154, -0.021887805, -0.07521154, 0.010695565, -0.04555428, -0.07236196, -0.006743338, -0.067069404, -0.032423977, -0.008195665, 0.022932949, 0.0011658097, -0.005362318, -0.019001441, 0.101935364, 0.015055844, -0.041378096, 5.0163006e-05, 0.003188094, -0.0174386, -0.041428808, 0.010243367, 0.022319952, 0.03525829, 0.023762845, -0.03899895, 0.0008595437, 0.062342744, -0.020758891, -0.014873612, 0.026265444, 0.021908177, 0.006529504, 0.06271395, 0.015592075, -0.0066196905, 0.042794, -0.031554986, -0.016327877, 0.0270553, -0.049949832, -0.002293736, 0.015283969, -0.064813375, -0.025129158, -0.01908601, 0.05872009, -0.039557472, 0.0063412273, -0.013100029, -0.0075966604, 0.04196706, 0.026816398, -0.031114917, -0.018941037, 0.039244346, 0.060640413, 0.015641917, -0.006994928, -0.019287568, 0.041515615, 0.05448225, -0.037175763, -0.056750115, -0.04376233, 0.014525626, 0.01933515, 0.03910303, -0.018820865, 0.028649297, -0.021085927, 0.04291153, -0.011898216, 0.08997161, -0.03335855, -0.03616893, ...]   \n",
       "18  [0.009956132, -0.02395142, 0.009917692, -0.017560972, 0.014799379, -0.005754645, -0.023466647, 0.066843316, 0.00541348, -0.013865623, 0.008927025, -0.021920674, 0.011982732, -0.030180002, -0.036914658, 0.04501858, 0.017299574, -0.07247242, -0.0406308, -0.038254853, -0.08145704, -0.033893272, 0.03338551, -0.009786466, 0.052477587, -0.030617932, -0.04817081, -0.014024674, -0.02332592, -0.025636327, 0.0024195232, -0.02279931, -0.04330985, 0.0071706884, 0.009276807, 0.0070602237, -0.011004561, -0.016881585, 0.07529448, -0.009292373, 0.025359742, 0.05401231, -0.069126464, 0.021822734, -0.00980713, 0.021419458, 0.030616349, 0.036681972, 0.006577283, 0.003221637, 0.015075095, 0.026021555, -0.045887623, 0.01078764, -0.0003731363, 0.0089153545, -0.015886214, 0.054993898, -0.029146612, 0.02712371, -0.022451993, 0.008744475, 0.0021559729, 0.08999621, 0.002022634, -0.016675666, -0.0014281424, -0.058921494, -0.026314357, 0.0040612947, 0.030835418, -0.04586493, 0.00017128515, -0.009182395, -0.022510702, -0.0013860214, 0.075583875, -0.04311526, -0.0057451352, -0.011896973, 0.070557594, -0.0032259014, -0.042183302, -0.004014094, 0.07918959, 0.0025306232, -0.016560534, -0.026028588, -0.026601711, -0.06824537, -0.028004482, 0.034662776, -0.036449403, 0.017237732, -0.0073941196, 0.043943524, -0.0027091957, 0.06310558, -0.016800493, -0.010345569, ...]   \n",
       "\n",
       "    cosine_similarity  \n",
       "51           0.582918  \n",
       "18           0.598588  "
      ]
     },
     "execution_count": 21,
     "metadata": {},
     "output_type": "execute_result"
    }
   ],
   "source": [
    "test_with_nearest_neigh_from_train_df.sample(2)"
   ]
  },
  {
   "cell_type": "code",
   "execution_count": 22,
   "metadata": {},
   "outputs": [],
   "source": [
    "test_with_nearest_neigh_from_train_df.to_csv('test_with_nearest_neigh_from_train_df.csv', index=False)"
   ]
  }
 ],
 "metadata": {
  "kernelspec": {
   "display_name": "finalproj",
   "language": "python",
   "name": "finalproj"
  },
  "language_info": {
   "codemirror_mode": {
    "name": "ipython",
    "version": 3
   },
   "file_extension": ".py",
   "mimetype": "text/x-python",
   "name": "python",
   "nbconvert_exporter": "python",
   "pygments_lexer": "ipython3",
   "version": "3.9.18"
  }
 },
 "nbformat": 4,
 "nbformat_minor": 2
}
